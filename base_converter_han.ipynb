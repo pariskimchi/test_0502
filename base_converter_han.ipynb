{
 "cells": [
  {
   "cell_type": "code",
   "execution_count": 1,
   "id": "cf07ab3e",
   "metadata": {},
   "outputs": [],
   "source": [
    "class Transformer(object):\n",
    "    \"\"\"Convert numbers from base 10 integers to base N strings and back again.\n",
    "    Sample usage:\n",
    "    >>> base20 = Transformer('0123456789abcdefghij')\n",
    "    >>> base20.from_decimal(1234)\n",
    "    '31e'\n",
    "    >>> base20.to_decimal('31e')\n",
    "    1234\n",
    "    \"\"\"\n",
    "    decimal_digits = '0123456789'\n",
    "    \n",
    "    def __init__(self, digits):\n",
    "        \n",
    "        self.digits = digits\n",
    "        \n",
    "    def from_decimal(self, num):\n",
    "        \n",
    "        return self._convert(num, self.decimal_digits, self.digits)\n",
    "    def to_decimal(self, num_str):\n",
    "        \n",
    "        return int(self._convert(num_str, self.digits, self.decimal_digits))\n",
    "    \n",
    "    def _convert(self, num, fromdigits, todigits):\n",
    "        \n",
    "        pure_num = 0\n",
    "        res = \"\"\n",
    "        # check if float\n",
    "        if (type(num) == float):\n",
    "            raise ValueError\n",
    "        \n",
    "        # check if num is string?\n",
    "        elif type(num) == str:\n",
    "            for n in str(num):\n",
    "                # contain check if string_num is in list?\n",
    "                if n not in list(str(fromdigits)):\n",
    "                    raise ValueError\n",
    "                # create pure integer number from string_number\n",
    "                pure_num = pure_num*len(fromdigits) + fromdigits.index(n)\n",
    "            \n",
    "            # loop\n",
    "            while pure_num > 0 and pure_num != 0 :\n",
    "                # len(todigit) ==> base (진법)\n",
    "                res = todigits[pure_num % len(todigits)]+res\n",
    "                pure_num = pure_num // len(todigits)\n",
    "                \n",
    "                \n",
    "        else:\n",
    "        # 몫, 나머지 이용해서 반복\n",
    "            while num > 0 and num != 0 :\n",
    "                res = todigits[num % len(todigits)]+res\n",
    "                num = num // len(todigits)\n",
    "\n",
    "        return res\n",
    "\n",
    "\n",
    "binary_transformer = Transformer('01')\n",
    "hex_transformer = Transformer('0123456789ABCDEF')\n",
    "base62_transformer = Transformer('ABCDEFGHIJKLMNOPQRSTUVWXYZ0123456789abcdefghijklmnopqrstuvwxyz')\n",
    "\n"
   ]
  },
  {
   "cell_type": "code",
   "execution_count": 2,
   "id": "5625f71a",
   "metadata": {},
   "outputs": [],
   "source": [
    "base20 = Transformer(\"0123456789abcdefghij\")"
   ]
  },
  {
   "cell_type": "code",
   "execution_count": 3,
   "id": "b06baeb3",
   "metadata": {},
   "outputs": [
    {
     "data": {
      "text/plain": [
       "'31e'"
      ]
     },
     "execution_count": 3,
     "metadata": {},
     "output_type": "execute_result"
    }
   ],
   "source": [
    "base20.from_decimal(1234)"
   ]
  },
  {
   "cell_type": "code",
   "execution_count": 4,
   "id": "84f93616",
   "metadata": {},
   "outputs": [
    {
     "data": {
      "text/plain": [
       "1234"
      ]
     },
     "execution_count": 4,
     "metadata": {},
     "output_type": "execute_result"
    }
   ],
   "source": [
    "base20.to_decimal('31e')"
   ]
  },
  {
   "cell_type": "code",
   "execution_count": 5,
   "id": "21340674",
   "metadata": {},
   "outputs": [],
   "source": [
    "binary_transformer = Transformer('01')"
   ]
  },
  {
   "cell_type": "code",
   "execution_count": 6,
   "id": "44bdd7b1",
   "metadata": {},
   "outputs": [
    {
     "data": {
      "text/plain": [
       "'10011010010'"
      ]
     },
     "execution_count": 6,
     "metadata": {},
     "output_type": "execute_result"
    }
   ],
   "source": [
    "binary_transformer.from_decimal(1234)"
   ]
  },
  {
   "cell_type": "code",
   "execution_count": 7,
   "id": "e0a4717b",
   "metadata": {},
   "outputs": [
    {
     "data": {
      "text/plain": [
       "1234"
      ]
     },
     "execution_count": 7,
     "metadata": {},
     "output_type": "execute_result"
    }
   ],
   "source": [
    "binary_transformer.to_decimal('10011010010')"
   ]
  },
  {
   "cell_type": "code",
   "execution_count": 8,
   "id": "ad57469a",
   "metadata": {},
   "outputs": [],
   "source": [
    "hex_transformer = Transformer('0123456789ABCDEF')"
   ]
  },
  {
   "cell_type": "code",
   "execution_count": 9,
   "id": "a5642671",
   "metadata": {},
   "outputs": [
    {
     "data": {
      "text/plain": [
       "'4D2'"
      ]
     },
     "execution_count": 9,
     "metadata": {},
     "output_type": "execute_result"
    }
   ],
   "source": [
    "hex_transformer.from_decimal(1234)"
   ]
  },
  {
   "cell_type": "code",
   "execution_count": 10,
   "id": "cde27dd6",
   "metadata": {},
   "outputs": [
    {
     "data": {
      "text/plain": [
       "1234"
      ]
     },
     "execution_count": 10,
     "metadata": {},
     "output_type": "execute_result"
    }
   ],
   "source": [
    "hex_transformer.to_decimal('4D2')"
   ]
  },
  {
   "cell_type": "code",
   "execution_count": 11,
   "id": "4d034dd7",
   "metadata": {},
   "outputs": [],
   "source": [
    "base62_transformer = Transformer('ABCDEFGHIJKLMNOPQRSTUVWXYZ0123456789abcdefghijklmnopqrstuvwxyz')\n"
   ]
  },
  {
   "cell_type": "code",
   "execution_count": 12,
   "id": "1bd04522",
   "metadata": {},
   "outputs": [
    {
     "data": {
      "text/plain": [
       "'6HO'"
      ]
     },
     "execution_count": 12,
     "metadata": {},
     "output_type": "execute_result"
    }
   ],
   "source": [
    "base62_transformer.from_decimal(123456)"
   ]
  },
  {
   "cell_type": "code",
   "execution_count": 13,
   "id": "77c7fa27",
   "metadata": {},
   "outputs": [
    {
     "data": {
      "text/plain": [
       "123456"
      ]
     },
     "execution_count": 13,
     "metadata": {},
     "output_type": "execute_result"
    }
   ],
   "source": [
    "base62_transformer.to_decimal('6HO')"
   ]
  },
  {
   "cell_type": "code",
   "execution_count": null,
   "id": "52dfd33e",
   "metadata": {},
   "outputs": [],
   "source": []
  }
 ],
 "metadata": {
  "kernelspec": {
   "display_name": "Python 3",
   "language": "python",
   "name": "python3"
  },
  "language_info": {
   "codemirror_mode": {
    "name": "ipython",
    "version": 3
   },
   "file_extension": ".py",
   "mimetype": "text/x-python",
   "name": "python",
   "nbconvert_exporter": "python",
   "pygments_lexer": "ipython3",
   "version": "3.8.8"
  }
 },
 "nbformat": 4,
 "nbformat_minor": 5
}
