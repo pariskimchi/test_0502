{
 "cells": [
  {
   "cell_type": "markdown",
   "id": "e9744964",
   "metadata": {},
   "source": [
    "1 Jan 1900 was a Monday.\n",
    "Thirty days has September,\n",
    "April, June and November.\n",
    "All the rest have thirty-one,\n",
    "Saving February alone,\n",
    "Which has twenty-eight, rain or shine.\n",
    "And on leap years, twenty-nine.\n",
    "A leap year occurs on any year evenly divisible by 4, but not on a century unless it is divisible by 400.\n",
    "How many Sundays fell on the first of the month during the twentieth century (1 Jan 1901 to 31\n",
    "Dec 2000)?"
   ]
  },
  {
   "cell_type": "code",
   "execution_count": 2,
   "id": "6346f336",
   "metadata": {},
   "outputs": [],
   "source": [
    "\n",
    "def count_sunday():\n",
    "    days = [\"mon\",\"tue\",\"wed\",\"thu\",\"fri\",\"sat\",\"sun\"]\n",
    "    month_days = [31,28,31,30,31,30,31,30,31,30,31,30]\n",
    "    # start_day\n",
    "    day = 1\n",
    "    # sunday count\n",
    "    count = 0 \n",
    "    \n",
    "    for year in range(1901,2001):\n",
    "        # chekcing leap year\n",
    "        if (year %4 ==0 and year % 100 !=0) or (year % 100 ==0 and year % 400== 0):\n",
    "            month_days[1] = 29\n",
    "        else:\n",
    "            month_days[1] = 28\n",
    "        \n",
    "        # loop\n",
    "        for month in range(1,13):\n",
    "            # 매월 마다 1일이 sunday 인지 아닌지 체크\n",
    "            if days[day] == \"sun\":\n",
    "                count+=1\n",
    "            # 매월마다 일 체크 더해주면서 %7 로 요일 설정    \n",
    "            day = (day + month_days[month-1]) % 7\n",
    "    \n",
    "    return count"
   ]
  },
  {
   "cell_type": "code",
   "execution_count": 3,
   "id": "37fd8f85",
   "metadata": {},
   "outputs": [
    {
     "data": {
      "text/plain": [
       "172"
      ]
     },
     "execution_count": 3,
     "metadata": {},
     "output_type": "execute_result"
    }
   ],
   "source": [
    "count_sunday()"
   ]
  },
  {
   "cell_type": "code",
   "execution_count": null,
   "id": "08c2690e",
   "metadata": {},
   "outputs": [],
   "source": []
  }
 ],
 "metadata": {
  "kernelspec": {
   "display_name": "Python 3",
   "language": "python",
   "name": "python3"
  },
  "language_info": {
   "codemirror_mode": {
    "name": "ipython",
    "version": 3
   },
   "file_extension": ".py",
   "mimetype": "text/x-python",
   "name": "python",
   "nbconvert_exporter": "python",
   "pygments_lexer": "ipython3",
   "version": "3.8.8"
  }
 },
 "nbformat": 4,
 "nbformat_minor": 5
}
